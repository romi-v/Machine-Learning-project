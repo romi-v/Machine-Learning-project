{
 "cells": [
  {
   "cell_type": "markdown",
   "id": "56b46056-bb7f-4553-9f56-13fc5c359a72",
   "metadata": {},
   "source": [
    "# My first Machine Learning Project"
   ]
  },
  {
   "cell_type": "markdown",
   "id": "b28ab76c-741e-47dd-b8cd-86d6f0b1fd5c",
   "metadata": {},
   "source": [
    "This dataset comprises health records from 200 patients, including measurements of blood pressure, cholesterol levels, and the sodium-to-potassium (Na/K) ratio (a urinary marker associated with cardiovascular risk). Additionally, the dataset includes information on the medication the patient responded well to in the course of his/her treatment (the drug of choice for each patient).\n",
    "\n",
    "All patients in this dataset were diagnosed with the same condition and responded to one of five medications: Drug A, Drug B, Drug C, Drug X, or Drug Y. This is a highly simplified representation of reality, but for the purpose of this project, we assume that each patient tolerated one specific drug well and that it led to the desired outcome (reduced cardiovascular risk).\n",
    "\n",
    "The objective of this project is to develop and compare machine learning models that can assisst healthcare providers in choosing the most appropriate medication for a patient based on his/her blood pressure, cholesterol level and Na/K ratio as well as age and sex. \n"
   ]
  },
  {
   "cell_type": "markdown",
   "id": "c7190efc-7680-4cce-b334-e622008c7c54",
   "metadata": {},
   "source": [
    "## 1. Loading data"
   ]
  },
  {
   "cell_type": "code",
   "execution_count": 4,
   "id": "19aa0c8e-91c0-4451-8ea6-999f26b22561",
   "metadata": {},
   "outputs": [
    {
     "data": {
      "text/html": [
       "<div>\n",
       "<style scoped>\n",
       "    .dataframe tbody tr th:only-of-type {\n",
       "        vertical-align: middle;\n",
       "    }\n",
       "\n",
       "    .dataframe tbody tr th {\n",
       "        vertical-align: top;\n",
       "    }\n",
       "\n",
       "    .dataframe thead th {\n",
       "        text-align: right;\n",
       "    }\n",
       "</style>\n",
       "<table border=\"1\" class=\"dataframe\">\n",
       "  <thead>\n",
       "    <tr style=\"text-align: right;\">\n",
       "      <th></th>\n",
       "      <th>Age</th>\n",
       "      <th>Sex</th>\n",
       "      <th>BP</th>\n",
       "      <th>Cholesterol</th>\n",
       "      <th>Na_to_K</th>\n",
       "      <th>Drug</th>\n",
       "    </tr>\n",
       "  </thead>\n",
       "  <tbody>\n",
       "    <tr>\n",
       "      <th>0</th>\n",
       "      <td>23</td>\n",
       "      <td>F</td>\n",
       "      <td>HIGH</td>\n",
       "      <td>HIGH</td>\n",
       "      <td>25.355</td>\n",
       "      <td>DrugY</td>\n",
       "    </tr>\n",
       "    <tr>\n",
       "      <th>1</th>\n",
       "      <td>47</td>\n",
       "      <td>M</td>\n",
       "      <td>LOW</td>\n",
       "      <td>HIGH</td>\n",
       "      <td>13.093</td>\n",
       "      <td>drugC</td>\n",
       "    </tr>\n",
       "    <tr>\n",
       "      <th>2</th>\n",
       "      <td>47</td>\n",
       "      <td>M</td>\n",
       "      <td>LOW</td>\n",
       "      <td>HIGH</td>\n",
       "      <td>10.114</td>\n",
       "      <td>drugC</td>\n",
       "    </tr>\n",
       "    <tr>\n",
       "      <th>3</th>\n",
       "      <td>28</td>\n",
       "      <td>F</td>\n",
       "      <td>NORMAL</td>\n",
       "      <td>HIGH</td>\n",
       "      <td>7.798</td>\n",
       "      <td>drugX</td>\n",
       "    </tr>\n",
       "    <tr>\n",
       "      <th>4</th>\n",
       "      <td>61</td>\n",
       "      <td>F</td>\n",
       "      <td>LOW</td>\n",
       "      <td>HIGH</td>\n",
       "      <td>18.043</td>\n",
       "      <td>DrugY</td>\n",
       "    </tr>\n",
       "  </tbody>\n",
       "</table>\n",
       "</div>"
      ],
      "text/plain": [
       "   Age Sex      BP Cholesterol  Na_to_K   Drug\n",
       "0   23   F    HIGH        HIGH   25.355  DrugY\n",
       "1   47   M     LOW        HIGH   13.093  drugC\n",
       "2   47   M     LOW        HIGH   10.114  drugC\n",
       "3   28   F  NORMAL        HIGH    7.798  drugX\n",
       "4   61   F     LOW        HIGH   18.043  DrugY"
      ]
     },
     "execution_count": 4,
     "metadata": {},
     "output_type": "execute_result"
    }
   ],
   "source": [
    "import pandas as pd\n",
    "import matplotlib.pyplot as plt\n",
    "import matplotlib.image as mpimg\n",
    "from sklearn.model_selection import train_test_split\n",
    "from sklearn.tree import DecisionTreeClassifier\n",
    "from sklearn.metrics import classification_report, confusion_matrix, accuracy_score\n",
    "from sklearn import tree\n",
    "from sklearn.linear_model import LinearRegression\n",
    "\n",
    "df = pd.read_csv('drug200.csv')\n",
    "df.head()"
   ]
  },
  {
   "cell_type": "code",
   "execution_count": 6,
   "id": "853a2a99-0a47-45dd-863a-f6235c018904",
   "metadata": {},
   "outputs": [
    {
     "data": {
      "text/plain": [
       "(200, 6)"
      ]
     },
     "execution_count": 6,
     "metadata": {},
     "output_type": "execute_result"
    }
   ],
   "source": [
    "df.shape"
   ]
  },
  {
   "cell_type": "markdown",
   "id": "d2f582d3-a9f6-4332-8ecf-794825002d22",
   "metadata": {},
   "source": [
    "## 2. Understanding the dataset & data preparation "
   ]
  },
  {
   "cell_type": "code",
   "execution_count": 8,
   "id": "620efdc4-a4ac-4e74-878a-ce85f6e86a45",
   "metadata": {},
   "outputs": [
    {
     "name": "stdout",
     "output_type": "stream",
     "text": [
      "<class 'pandas.core.frame.DataFrame'>\n",
      "RangeIndex: 200 entries, 0 to 199\n",
      "Data columns (total 6 columns):\n",
      " #   Column          Non-Null Count  Dtype  \n",
      "---  ------          --------------  -----  \n",
      " 0   Age             200 non-null    int64  \n",
      " 1   Sex             200 non-null    object \n",
      " 2   Blood_pressure  200 non-null    object \n",
      " 3   Cholesterol     200 non-null    object \n",
      " 4   Na_to_K         200 non-null    float64\n",
      " 5   Drug            200 non-null    object \n",
      "dtypes: float64(1), int64(1), object(4)\n",
      "memory usage: 9.5+ KB\n"
     ]
    }
   ],
   "source": [
    "df = df.rename(columns= {'BP':'Blood_pressure'})\n",
    "df.info()"
   ]
  },
  {
   "cell_type": "code",
   "execution_count": 10,
   "id": "419c4aa3-51f3-46b6-b0a0-651898a1aeb2",
   "metadata": {},
   "outputs": [
    {
     "name": "stdout",
     "output_type": "stream",
     "text": [
      "Age               0\n",
      "Sex               0\n",
      "Blood_pressure    0\n",
      "Cholesterol       0\n",
      "Na_to_K           0\n",
      "Drug              0\n",
      "dtype: int64\n"
     ]
    }
   ],
   "source": [
    "print(df.isna().sum())"
   ]
  },
  {
   "cell_type": "code",
   "execution_count": 12,
   "id": "4dac8c0e-372d-41d4-8af8-38370de9e467",
   "metadata": {},
   "outputs": [
    {
     "data": {
      "text/plain": [
       "(200, 6)"
      ]
     },
     "execution_count": 12,
     "metadata": {},
     "output_type": "execute_result"
    }
   ],
   "source": [
    "df.drop_duplicates\n",
    "df.shape"
   ]
  },
  {
   "cell_type": "markdown",
   "id": "cf052bd9-7b85-4f72-be77-b5a9c8ba8613",
   "metadata": {},
   "source": [
    "The dataset contains 6 columns and 200 rows of data. There are no missing values nor duplicates."
   ]
  },
  {
   "cell_type": "code",
   "execution_count": 14,
   "id": "dd436ed9-a8bf-4867-abff-eba7f386ea28",
   "metadata": {},
   "outputs": [
    {
     "data": {
      "text/plain": [
       "Sex\n",
       "M    104\n",
       "F     96\n",
       "Name: count, dtype: int64"
      ]
     },
     "execution_count": 14,
     "metadata": {},
     "output_type": "execute_result"
    }
   ],
   "source": [
    "df['Sex'].value_counts()"
   ]
  },
  {
   "cell_type": "code",
   "execution_count": 16,
   "id": "d5b2b9d9-7b51-41f9-91b1-8334ebbfe3c3",
   "metadata": {},
   "outputs": [],
   "source": [
    "df['is_female'] = df['Sex'].apply(lambda x: 1 if x == 'F' else 0)\n",
    "df['is_male'] = df['Sex'].apply(lambda x: 1 if x == 'M' else 0)"
   ]
  },
  {
   "cell_type": "code",
   "execution_count": 18,
   "id": "8d4e3f6a-0ede-4537-9c08-721134429f2b",
   "metadata": {},
   "outputs": [
    {
     "data": {
      "text/plain": [
       "array(['HIGH', 'NORMAL'], dtype=object)"
      ]
     },
     "execution_count": 18,
     "metadata": {},
     "output_type": "execute_result"
    }
   ],
   "source": [
    "df['Cholesterol'].unique()"
   ]
  },
  {
   "cell_type": "code",
   "execution_count": 20,
   "id": "10ddb84d-87e0-4945-82c3-9fbf3ccbad68",
   "metadata": {},
   "outputs": [],
   "source": [
    "df['high_chol'] = df['Cholesterol'].apply(lambda x: 1 if x == 'HIGH' else 0)\n",
    "df['nor_chol'] = df['Cholesterol'].apply(lambda x: 1 if x == 'NORMAL' else 0)\n"
   ]
  },
  {
   "cell_type": "code",
   "execution_count": 22,
   "id": "1ee0234e-8658-40c2-b034-e0fe47d64061",
   "metadata": {},
   "outputs": [
    {
     "data": {
      "text/plain": [
       "Blood_pressure\n",
       "HIGH      77\n",
       "LOW       64\n",
       "NORMAL    59\n",
       "Name: count, dtype: int64"
      ]
     },
     "execution_count": 22,
     "metadata": {},
     "output_type": "execute_result"
    }
   ],
   "source": [
    "df['Blood_pressure'].value_counts()"
   ]
  },
  {
   "cell_type": "code",
   "execution_count": 24,
   "id": "695b0ef8-625f-4143-82f0-80d024e97dab",
   "metadata": {},
   "outputs": [],
   "source": [
    "df['high_bp'] = df['Blood_pressure'].apply(lambda x: 1 if x == 'HIGH' else 0)\n",
    "df['nor_bp'] = df['Blood_pressure'].apply(lambda x: 1 if x == 'NORMAL' else 0)\n",
    "df['low_bp'] = df['Blood_pressure'].apply(lambda x: 1 if x == 'LOW' else 0)"
   ]
  },
  {
   "cell_type": "code",
   "execution_count": 26,
   "id": "87c9d040-804b-43be-984b-827a6a4a05fe",
   "metadata": {},
   "outputs": [
    {
     "data": {
      "text/html": [
       "<div>\n",
       "<style scoped>\n",
       "    .dataframe tbody tr th:only-of-type {\n",
       "        vertical-align: middle;\n",
       "    }\n",
       "\n",
       "    .dataframe tbody tr th {\n",
       "        vertical-align: top;\n",
       "    }\n",
       "\n",
       "    .dataframe thead th {\n",
       "        text-align: right;\n",
       "    }\n",
       "</style>\n",
       "<table border=\"1\" class=\"dataframe\">\n",
       "  <thead>\n",
       "    <tr style=\"text-align: right;\">\n",
       "      <th></th>\n",
       "      <th>Age</th>\n",
       "      <th>Sex</th>\n",
       "      <th>Blood_pressure</th>\n",
       "      <th>Cholesterol</th>\n",
       "      <th>Na_to_K</th>\n",
       "      <th>Drug</th>\n",
       "      <th>is_female</th>\n",
       "      <th>is_male</th>\n",
       "      <th>high_chol</th>\n",
       "      <th>nor_chol</th>\n",
       "      <th>high_bp</th>\n",
       "      <th>nor_bp</th>\n",
       "      <th>low_bp</th>\n",
       "    </tr>\n",
       "  </thead>\n",
       "  <tbody>\n",
       "    <tr>\n",
       "      <th>0</th>\n",
       "      <td>23</td>\n",
       "      <td>F</td>\n",
       "      <td>HIGH</td>\n",
       "      <td>HIGH</td>\n",
       "      <td>25.355</td>\n",
       "      <td>DrugY</td>\n",
       "      <td>1</td>\n",
       "      <td>0</td>\n",
       "      <td>1</td>\n",
       "      <td>0</td>\n",
       "      <td>1</td>\n",
       "      <td>0</td>\n",
       "      <td>0</td>\n",
       "    </tr>\n",
       "    <tr>\n",
       "      <th>1</th>\n",
       "      <td>47</td>\n",
       "      <td>M</td>\n",
       "      <td>LOW</td>\n",
       "      <td>HIGH</td>\n",
       "      <td>13.093</td>\n",
       "      <td>drugC</td>\n",
       "      <td>0</td>\n",
       "      <td>1</td>\n",
       "      <td>1</td>\n",
       "      <td>0</td>\n",
       "      <td>0</td>\n",
       "      <td>0</td>\n",
       "      <td>1</td>\n",
       "    </tr>\n",
       "    <tr>\n",
       "      <th>2</th>\n",
       "      <td>47</td>\n",
       "      <td>M</td>\n",
       "      <td>LOW</td>\n",
       "      <td>HIGH</td>\n",
       "      <td>10.114</td>\n",
       "      <td>drugC</td>\n",
       "      <td>0</td>\n",
       "      <td>1</td>\n",
       "      <td>1</td>\n",
       "      <td>0</td>\n",
       "      <td>0</td>\n",
       "      <td>0</td>\n",
       "      <td>1</td>\n",
       "    </tr>\n",
       "    <tr>\n",
       "      <th>3</th>\n",
       "      <td>28</td>\n",
       "      <td>F</td>\n",
       "      <td>NORMAL</td>\n",
       "      <td>HIGH</td>\n",
       "      <td>7.798</td>\n",
       "      <td>drugX</td>\n",
       "      <td>1</td>\n",
       "      <td>0</td>\n",
       "      <td>1</td>\n",
       "      <td>0</td>\n",
       "      <td>0</td>\n",
       "      <td>1</td>\n",
       "      <td>0</td>\n",
       "    </tr>\n",
       "    <tr>\n",
       "      <th>4</th>\n",
       "      <td>61</td>\n",
       "      <td>F</td>\n",
       "      <td>LOW</td>\n",
       "      <td>HIGH</td>\n",
       "      <td>18.043</td>\n",
       "      <td>DrugY</td>\n",
       "      <td>1</td>\n",
       "      <td>0</td>\n",
       "      <td>1</td>\n",
       "      <td>0</td>\n",
       "      <td>0</td>\n",
       "      <td>0</td>\n",
       "      <td>1</td>\n",
       "    </tr>\n",
       "  </tbody>\n",
       "</table>\n",
       "</div>"
      ],
      "text/plain": [
       "   Age Sex Blood_pressure Cholesterol  Na_to_K   Drug  is_female  is_male  \\\n",
       "0   23   F           HIGH        HIGH   25.355  DrugY          1        0   \n",
       "1   47   M            LOW        HIGH   13.093  drugC          0        1   \n",
       "2   47   M            LOW        HIGH   10.114  drugC          0        1   \n",
       "3   28   F         NORMAL        HIGH    7.798  drugX          1        0   \n",
       "4   61   F            LOW        HIGH   18.043  DrugY          1        0   \n",
       "\n",
       "   high_chol  nor_chol  high_bp  nor_bp  low_bp  \n",
       "0          1         0        1       0       0  \n",
       "1          1         0        0       0       1  \n",
       "2          1         0        0       0       1  \n",
       "3          1         0        0       1       0  \n",
       "4          1         0        0       0       1  "
      ]
     },
     "execution_count": 26,
     "metadata": {},
     "output_type": "execute_result"
    }
   ],
   "source": [
    "df.head()"
   ]
  },
  {
   "cell_type": "markdown",
   "id": "750a725f-82ad-4a4f-b2a0-1326aa8c0e72",
   "metadata": {},
   "source": [
    "## 3. Exploring the data"
   ]
  },
  {
   "cell_type": "markdown",
   "id": "c35a4936-c31f-4fba-b870-4488382542ce",
   "metadata": {},
   "source": [
    "### Grouping data\n",
    "\n",
    "We will group the 'Age' and 'Na_to_K' values depending on the max and min values in each column. Let's have a look at their distributions."
   ]
  },
  {
   "cell_type": "code",
   "execution_count": 34,
   "id": "51ff2c1e-2d61-4d28-925d-e36879e7494c",
   "metadata": {},
   "outputs": [
    {
     "data": {
      "text/plain": [
       "Text(0.5, 1.0, 'Age distribution')"
      ]
     },
     "execution_count": 34,
     "metadata": {},
     "output_type": "execute_result"
    },
    {
     "data": {
      "image/png": "[encoded data removed]",
      "text/plain": [
       "<Figure size 1000x600 with 1 Axes>"
      ]
     },
     "metadata": {},
     "output_type": "display_data"
    }
   ],
   "source": [
    "plt.figure(figsize=(10,6))\n",
    " \n",
    "x = plt.hist(df['Age'],bins=range(10,80,5), alpha=0.6, color = 'lightcoral')\n",
    "plt.ylabel('Number of patients')\n",
    "plt.xlabel('Age')\n",
    "plt.title('Age distribution')\n"
   ]
  },
  {
   "cell_type": "code",
   "execution_count": 36,
   "id": "74b435f0-c29b-4a71-9954-02f799aa7481",
   "metadata": {},
   "outputs": [
    {
     "data": {
      "text/plain": [
       "count    200.000000\n",
       "mean      44.315000\n",
       "std       16.544315\n",
       "min       15.000000\n",
       "25%       31.000000\n",
       "50%       45.000000\n",
       "75%       58.000000\n",
       "max       74.000000\n",
       "Name: Age, dtype: float64"
      ]
     },
     "execution_count": 36,
     "metadata": {},
     "output_type": "execute_result"
    }
   ],
   "source": [
    "df['Age'].describe()"
   ]
  },
  {
   "cell_type": "code",
   "execution_count": 38,
   "id": "6e8e5875-40a5-471b-ab07-2b1d0823175a",
   "metadata": {},
   "outputs": [],
   "source": [
    "df['Age_groups'] = df['Age'].apply(lambda x:\n",
    "                                   '10-20' if x in range(10,21) else\n",
    "                                   '21-30' if x in range(21,31) else\n",
    "                                   '31-40' if x in range(31,41) else\n",
    "                                   '41-50' if x in range(41,51) else\n",
    "                                   '51-60' if x in range(51,61) else\n",
    "                                   '61-70' if x in range(61,71) else\n",
    "                                   '71+')\n"
   ]
  },
  {
   "cell_type": "code",
   "execution_count": 40,
   "id": "021f3042-2d9b-4610-8d5a-affcf64d21b9",
   "metadata": {},
   "outputs": [
    {
     "data": {
      "text/html": [
       "<div>\n",
       "<style scoped>\n",
       "    .dataframe tbody tr th:only-of-type {\n",
       "        vertical-align: middle;\n",
       "    }\n",
       "\n",
       "    .dataframe tbody tr th {\n",
       "        vertical-align: top;\n",
       "    }\n",
       "\n",
       "    .dataframe thead th {\n",
       "        text-align: right;\n",
       "    }\n",
       "</style>\n",
       "<table border=\"1\" class=\"dataframe\">\n",
       "  <thead>\n",
       "    <tr style=\"text-align: right;\">\n",
       "      <th></th>\n",
       "      <th>Age</th>\n",
       "      <th>Sex</th>\n",
       "      <th>Blood_pressure</th>\n",
       "      <th>Cholesterol</th>\n",
       "      <th>Na_to_K</th>\n",
       "      <th>Drug</th>\n",
       "      <th>is_female</th>\n",
       "      <th>is_male</th>\n",
       "      <th>high_chol</th>\n",
       "      <th>nor_chol</th>\n",
       "      <th>high_bp</th>\n",
       "      <th>nor_bp</th>\n",
       "      <th>low_bp</th>\n",
       "      <th>Age_groups</th>\n",
       "    </tr>\n",
       "  </thead>\n",
       "  <tbody>\n",
       "    <tr>\n",
       "      <th>0</th>\n",
       "      <td>23</td>\n",
       "      <td>F</td>\n",
       "      <td>HIGH</td>\n",
       "      <td>HIGH</td>\n",
       "      <td>25.355</td>\n",
       "      <td>DrugY</td>\n",
       "      <td>1</td>\n",
       "      <td>0</td>\n",
       "      <td>1</td>\n",
       "      <td>0</td>\n",
       "      <td>1</td>\n",
       "      <td>0</td>\n",
       "      <td>0</td>\n",
       "      <td>21-30</td>\n",
       "    </tr>\n",
       "    <tr>\n",
       "      <th>1</th>\n",
       "      <td>47</td>\n",
       "      <td>M</td>\n",
       "      <td>LOW</td>\n",
       "      <td>HIGH</td>\n",
       "      <td>13.093</td>\n",
       "      <td>drugC</td>\n",
       "      <td>0</td>\n",
       "      <td>1</td>\n",
       "      <td>1</td>\n",
       "      <td>0</td>\n",
       "      <td>0</td>\n",
       "      <td>0</td>\n",
       "      <td>1</td>\n",
       "      <td>41-50</td>\n",
       "    </tr>\n",
       "    <tr>\n",
       "      <th>2</th>\n",
       "      <td>47</td>\n",
       "      <td>M</td>\n",
       "      <td>LOW</td>\n",
       "      <td>HIGH</td>\n",
       "      <td>10.114</td>\n",
       "      <td>drugC</td>\n",
       "      <td>0</td>\n",
       "      <td>1</td>\n",
       "      <td>1</td>\n",
       "      <td>0</td>\n",
       "      <td>0</td>\n",
       "      <td>0</td>\n",
       "      <td>1</td>\n",
       "      <td>41-50</td>\n",
       "    </tr>\n",
       "    <tr>\n",
       "      <th>3</th>\n",
       "      <td>28</td>\n",
       "      <td>F</td>\n",
       "      <td>NORMAL</td>\n",
       "      <td>HIGH</td>\n",
       "      <td>7.798</td>\n",
       "      <td>drugX</td>\n",
       "      <td>1</td>\n",
       "      <td>0</td>\n",
       "      <td>1</td>\n",
       "      <td>0</td>\n",
       "      <td>0</td>\n",
       "      <td>1</td>\n",
       "      <td>0</td>\n",
       "      <td>21-30</td>\n",
       "    </tr>\n",
       "    <tr>\n",
       "      <th>4</th>\n",
       "      <td>61</td>\n",
       "      <td>F</td>\n",
       "      <td>LOW</td>\n",
       "      <td>HIGH</td>\n",
       "      <td>18.043</td>\n",
       "      <td>DrugY</td>\n",
       "      <td>1</td>\n",
       "      <td>0</td>\n",
       "      <td>1</td>\n",
       "      <td>0</td>\n",
       "      <td>0</td>\n",
       "      <td>0</td>\n",
       "      <td>1</td>\n",
       "      <td>61-70</td>\n",
       "    </tr>\n",
       "  </tbody>\n",
       "</table>\n",
       "</div>"
      ],
      "text/plain": [
       "   Age Sex Blood_pressure Cholesterol  Na_to_K   Drug  is_female  is_male  \\\n",
       "0   23   F           HIGH        HIGH   25.355  DrugY          1        0   \n",
       "1   47   M            LOW        HIGH   13.093  drugC          0        1   \n",
       "2   47   M            LOW        HIGH   10.114  drugC          0        1   \n",
       "3   28   F         NORMAL        HIGH    7.798  drugX          1        0   \n",
       "4   61   F            LOW        HIGH   18.043  DrugY          1        0   \n",
       "\n",
       "   high_chol  nor_chol  high_bp  nor_bp  low_bp Age_groups  \n",
       "0          1         0        1       0       0      21-30  \n",
       "1          1         0        0       0       1      41-50  \n",
       "2          1         0        0       0       1      41-50  \n",
       "3          1         0        0       1       0      21-30  \n",
       "4          1         0        0       0       1      61-70  "
      ]
     },
     "execution_count": 40,
     "metadata": {},
     "output_type": "execute_result"
    }
   ],
   "source": [
    "df.head()"
   ]
  },
  {
   "cell_type": "code",
   "execution_count": 42,
   "id": "0fd84a41-0f98-4eba-89ec-b2212de43f8d",
   "metadata": {},
   "outputs": [
    {
     "data": {
      "text/plain": [
       "Text(0.5, 1.0, 'Na/K ratio distribution')"
      ]
     },
     "execution_count": 42,
     "metadata": {},
     "output_type": "execute_result"
    },
    {
     "data": {
      "image/png": "[encoded data removed]",
      "text/plain": [
       "<Figure size 1000x600 with 1 Axes>"
      ]
     },
     "metadata": {},
     "output_type": "display_data"
    }
   ],
   "source": [
    "plt.figure(figsize=(10,6))\n",
    " \n",
    "x = plt.hist(df['Na_to_K'],bins=range(0,50,5), alpha=0.6, color = 'cornflowerblue')\n",
    "plt.ylabel('Number of patients')\n",
    "plt.xlabel('Measured Na/K ratio')\n",
    "plt.title('Na/K ratio distribution')"
   ]
  },
  {
   "cell_type": "code",
   "execution_count": 44,
   "id": "b8241bbb-8d61-42c4-9311-b8e32120ffe5",
   "metadata": {},
   "outputs": [
    {
     "data": {
      "text/plain": [
       "count    200.000000\n",
       "mean      16.084485\n",
       "std        7.223956\n",
       "min        6.269000\n",
       "25%       10.445500\n",
       "50%       13.936500\n",
       "75%       19.380000\n",
       "max       38.247000\n",
       "Name: Na_to_K, dtype: float64"
      ]
     },
     "execution_count": 44,
     "metadata": {},
     "output_type": "execute_result"
    }
   ],
   "source": [
    "df['Na_to_K'].describe()"
   ]
  },
  {
   "cell_type": "code",
   "execution_count": 46,
   "id": "31c43167-ba10-4e36-b404-e4b9b8fe6d97",
   "metadata": {},
   "outputs": [],
   "source": [
    "df['NAK_groups'] = df['Na_to_K'].apply(lambda x:\n",
    "                                   '0-10' if x <= 10 else\n",
    "                                   '11-15' if x  <= 15 else\n",
    "                                   '16-20' if x  <= 20 else\n",
    "                                   '21-25' if x  <= 25 else\n",
    "                                   '26-30' if x  <= 30 else\n",
    "                                   '31-35' if x  <= 35 else\n",
    "                                   '36+')"
   ]
  },
  {
   "cell_type": "code",
   "execution_count": 48,
   "id": "2fad53cf-d1ca-4850-9de9-fae21751b290",
   "metadata": {},
   "outputs": [
    {
     "name": "stdout",
     "output_type": "stream",
     "text": [
      "NAK_groups\n",
      "11-15    71\n",
      "16-20    44\n",
      "0-10     38\n",
      "26-30    19\n",
      "21-25    16\n",
      "31-35     9\n",
      "36+       3\n",
      "Name: count, dtype: int64\n",
      "Age_groups\n",
      "41-50    40\n",
      "31-40    39\n",
      "51-60    33\n",
      "21-30    32\n",
      "61-70    30\n",
      "10-20    16\n",
      "71+      10\n",
      "Name: count, dtype: int64\n"
     ]
    }
   ],
   "source": [
    "print(df['NAK_groups'].value_counts())\n",
    "print(df['Age_groups'].value_counts())"
   ]
  },
  {
   "cell_type": "markdown",
   "id": "8c160113-020b-4a72-87cd-be38b0e5acf8",
   "metadata": {},
   "source": [
    "### Visualising the variable distributions"
   ]
  },
  {
   "cell_type": "code",
   "execution_count": 50,
   "id": "b140690b-249c-4bce-867b-89091e451497",
   "metadata": {},
   "outputs": [
    {
     "data": {
      "text/plain": [
       "Drug\n",
       "DrugY    91\n",
       "drugX    54\n",
       "drugA    23\n",
       "drugC    16\n",
       "drugB    16\n",
       "Name: count, dtype: int64"
      ]
     },
     "execution_count": 50,
     "metadata": {},
     "output_type": "execute_result"
    }
   ],
   "source": [
    "df['Drug'].value_counts()"
   ]
  },
  {
   "cell_type": "code",
   "execution_count": 52,
   "id": "7260f13b-a4bf-4972-9144-60676ee9183e",
   "metadata": {},
   "outputs": [
    {
     "data": {
      "image/png": "[encoded data removed]",
      "text/plain": [
       "<Figure size 1000x600 with 1 Axes>"
      ]
     },
     "metadata": {},
     "output_type": "display_data"
    }
   ],
   "source": [
    "drug_chart = df['Drug'].value_counts().sort_index()\n",
    "drug_chart.plot(kind='bar', figsize=(10, 6), colormap='Pastel1')\n",
    "drug_names = sorted(df['Drug'].unique())\n",
    "\n",
    "plt.title('Drug Type Distribution')\n",
    "plt.xlabel('Type of Drug')\n",
    "plt.ylabel('No of patients')\n",
    "plt.legend(title='No of patients')\n",
    "plt.xticks(ticks=range(len(drug_names)), labels=drug_names, rotation=0)\n",
    "plt.show()\n",
    "\n",
    "# DrugY has been used more often than the other drug types. The dataset is therefore imbalanced. \n",
    "# This issue will have to be addressed when building the model. \n"
   ]
  },
  {
   "cell_type": "code",
   "execution_count": 31,
   "id": "cbfa0f12-c90b-4f70-b6b5-27b8b5ec945a",
   "metadata": {},
   "outputs": [
    {
     "data": {
      "image/png": "[encoded data removed]",
      "text/plain": [
       "<Figure size 1000x600 with 1 Axes>"
      ]
     },
     "metadata": {},
     "output_type": "display_data"
    }
   ],
   "source": [
    "age_chart = df['Age_groups'].value_counts().sort_index()\n",
    "age_chart.plot(kind='bar', figsize=(10, 6), colormap='Pastel1')\n",
    "groups = sorted(df['Age_groups'].unique())\n",
    "\n",
    "plt.title('Age Distribution')\n",
    "plt.xlabel('Age group')\n",
    "plt.ylabel('No of patients')\n",
    "plt.legend(title='No of patients')\n",
    "plt.xticks(ticks=range(len(groups)), labels=groups, rotation=0)\n",
    "plt.show()"
   ]
  },
  {
   "cell_type": "code",
   "execution_count": 54,
   "id": "6c8dce4d-9794-4a9a-9ab5-159443e8c874",
   "metadata": {},
   "outputs": [
    {
     "data": {
      "image/png": "[encoded data removed]",
      "text/plain": [
       "<Figure size 1000x600 with 1 Axes>"
      ]
     },
     "metadata": {},
     "output_type": "display_data"
    }
   ],
   "source": [
    "chol_chart = df.groupby(['Sex','Cholesterol']).size().unstack()\n",
    "chol_chart.plot(kind='bar', figsize=(10, 6), colormap='Pastel1')\n",
    "\n",
    "plt.title('Count of Men and Women by Cholesterol Level')\n",
    "plt.xlabel('Sex')\n",
    "plt.ylabel('Count')\n",
    "plt.legend(title='Cholesterol')\n",
    "plt.xticks(rotation=0)  \n",
    "plt.show()\n"
   ]
  },
  {
   "cell_type": "code",
   "execution_count": 33,
   "id": "9ae71458-12e0-4358-bf40-bc6433df91a7",
   "metadata": {},
   "outputs": [
    {
     "data": {
      "text/plain": [
       "Sex  Blood_pressure\n",
       "F    HIGH              38\n",
       "     NORMAL            30\n",
       "     LOW               28\n",
       "M    HIGH              39\n",
       "     LOW               36\n",
       "     NORMAL            29\n",
       "Name: count, dtype: int64"
      ]
     },
     "execution_count": 33,
     "metadata": {},
     "output_type": "execute_result"
    }
   ],
   "source": [
    "df.groupby('Sex')['Blood_pressure'].value_counts()"
   ]
  },
  {
   "cell_type": "code",
   "execution_count": 56,
   "id": "c2cf0705-e9d7-495b-8241-58de6dd46f9e",
   "metadata": {},
   "outputs": [
    {
     "data": {
      "image/png": "[encoded data removed]",
      "text/plain": [
       "<Figure size 1000x600 with 1 Axes>"
      ]
     },
     "metadata": {},
     "output_type": "display_data"
    }
   ],
   "source": [
    "bp_chart = df.groupby(['Sex', 'Blood_pressure']).size().unstack()\n",
    "bp_chart.plot(kind='bar', figsize=(10, 6), colormap='Pastel1')\n",
    "\n",
    "plt.title('Count of Men and Women by Blood Pressure')\n",
    "plt.xlabel('Sex')\n",
    "plt.ylabel('Count')\n",
    "plt.legend(title='Blood Pressure')\n",
    "plt.xticks(rotation=0)  \n",
    "plt.show()\n"
   ]
  },
  {
   "cell_type": "code",
   "execution_count": 58,
   "id": "59af944f-ec61-4e3b-8b10-718c627f5eb7",
   "metadata": {},
   "outputs": [
    {
     "data": {
      "image/png": "[encoded data removed]",
      "text/plain": [
       "<Figure size 1000x600 with 1 Axes>"
      ]
     },
     "metadata": {},
     "output_type": "display_data"
    }
   ],
   "source": [
    "NAK_chart = df['NAK_groups'].value_counts().sort_index()\n",
    "NAK_chart.plot(kind='bar', figsize=(10, 6), colormap='Pastel1')\n",
    "groups = sorted(df['NAK_groups'].unique())\n",
    "\n",
    "plt.title('Sodium-Potassium ratio distribution')\n",
    "plt.xlabel('Na/K ratio')\n",
    "plt.ylabel('No of patients')\n",
    "plt.legend(title='No of patients')\n",
    "plt.xticks(ticks=range(len(groups)), labels=groups, rotation=0)\n",
    "plt.show()"
   ]
  },
  {
   "cell_type": "code",
   "execution_count": 36,
   "id": "db975991-6fc8-40ae-84f0-b16d13addab4",
   "metadata": {},
   "outputs": [
    {
     "data": {
      "text/html": [
       "<div>\n",
       "<style scoped>\n",
       "    .dataframe tbody tr th:only-of-type {\n",
       "        vertical-align: middle;\n",
       "    }\n",
       "\n",
       "    .dataframe tbody tr th {\n",
       "        vertical-align: top;\n",
       "    }\n",
       "\n",
       "    .dataframe thead th {\n",
       "        text-align: right;\n",
       "    }\n",
       "</style>\n",
       "<table border=\"1\" class=\"dataframe\">\n",
       "  <thead>\n",
       "    <tr style=\"text-align: right;\">\n",
       "      <th></th>\n",
       "      <th>count</th>\n",
       "      <th>mean</th>\n",
       "      <th>std</th>\n",
       "      <th>min</th>\n",
       "      <th>25%</th>\n",
       "      <th>50%</th>\n",
       "      <th>75%</th>\n",
       "      <th>max</th>\n",
       "    </tr>\n",
       "    <tr>\n",
       "      <th>Sex</th>\n",
       "      <th></th>\n",
       "      <th></th>\n",
       "      <th></th>\n",
       "      <th></th>\n",
       "      <th></th>\n",
       "      <th></th>\n",
       "      <th></th>\n",
       "      <th></th>\n",
       "    </tr>\n",
       "  </thead>\n",
       "  <tbody>\n",
       "    <tr>\n",
       "      <th>F</th>\n",
       "      <td>96.0</td>\n",
       "      <td>17.022063</td>\n",
       "      <td>7.351667</td>\n",
       "      <td>6.683</td>\n",
       "      <td>11.31000</td>\n",
       "      <td>14.4405</td>\n",
       "      <td>21.45125</td>\n",
       "      <td>38.247</td>\n",
       "    </tr>\n",
       "    <tr>\n",
       "      <th>M</th>\n",
       "      <td>104.0</td>\n",
       "      <td>15.219029</td>\n",
       "      <td>7.028492</td>\n",
       "      <td>6.269</td>\n",
       "      <td>9.98625</td>\n",
       "      <td>13.3455</td>\n",
       "      <td>18.39700</td>\n",
       "      <td>35.639</td>\n",
       "    </tr>\n",
       "  </tbody>\n",
       "</table>\n",
       "</div>"
      ],
      "text/plain": [
       "     count       mean       std    min       25%      50%       75%     max\n",
       "Sex                                                                        \n",
       "F     96.0  17.022063  7.351667  6.683  11.31000  14.4405  21.45125  38.247\n",
       "M    104.0  15.219029  7.028492  6.269   9.98625  13.3455  18.39700  35.639"
      ]
     },
     "execution_count": 36,
     "metadata": {},
     "output_type": "execute_result"
    }
   ],
   "source": [
    "df.groupby('Sex')['Na_to_K'].describe()"
   ]
  },
  {
   "cell_type": "code",
   "execution_count": 37,
   "id": "eaf93e7b-4b05-4273-bf78-3948d26ce2f4",
   "metadata": {},
   "outputs": [
    {
     "data": {
      "text/plain": [
       "<matplotlib.legend.Legend at 0x127bc9340>"
      ]
     },
     "execution_count": 37,
     "metadata": {},
     "output_type": "execute_result"
    },
    {
     "data": {
      "image/png": "[encoded data removed]",
      "text/plain": [
       "<Figure size 1000x600 with 1 Axes>"
      ]
     },
     "metadata": {},
     "output_type": "display_data"
    }
   ],
   "source": [
    "plt.figure(figsize=(10,6))\n",
    "\n",
    "df_F = df[df['Sex'] == 'F']\n",
    "df_M = df[df['Sex'] == 'M']\n",
    "\n",
    " \n",
    "plt.scatter(x=df_F['Age'], y=df_F['Na_to_K'], alpha=0.6, color = 'palevioletred', label = 'Female')\n",
    "plt.scatter(x=df_M['Age'], y=df_M['Na_to_K'], alpha=0.6, color = 'cornflowerblue', label = 'Male')\n",
    "\n",
    "plt.ylabel('Na/K ratio')\n",
    "plt.xlabel('Age')\n",
    "plt.title('Na/K ratio based on Gender and Age') \n",
    "plt.legend()\n",
    "\n"
   ]
  },
  {
   "cell_type": "code",
   "execution_count": 38,
   "id": "5618b06c-b876-4d02-9eca-9ff2f0924b31",
   "metadata": {},
   "outputs": [
    {
     "data": {
      "text/plain": [
       "Text(0.5, 1.0, 'Age - Na/K ratio')"
      ]
     },
     "execution_count": 38,
     "metadata": {},
     "output_type": "execute_result"
    },
    {
     "data": {
      "image/png": "[encoded data removed]",
      "text/plain": [
       "<Figure size 1000x600 with 1 Axes>"
      ]
     },
     "metadata": {},
     "output_type": "display_data"
    }
   ],
   "source": [
    "plt.figure(figsize=(10,6))\n",
    " \n",
    "plt.scatter(x=df['Age'], y=df['Na_to_K'], alpha=0.6, color = 'palevioletred')\n",
    "plt.ylabel('Na/K ratio')\n",
    "plt.xlabel('Age')\n",
    "plt.title('Age - Na/K ratio') \n",
    "\n",
    "# Apparently Na/K not function of age"
   ]
  },
  {
   "cell_type": "markdown",
   "id": "1f239ff6-df9b-4972-bdc9-7e67e89e32e5",
   "metadata": {},
   "source": [
    "## 4. Building the models\n",
    "\n",
    "\n",
    "### Dataset separation as X and y"
   ]
  },
  {
   "cell_type": "code",
   "execution_count": 28,
   "id": "e6b4b607-85ad-413f-8bda-308535a0ef6f",
   "metadata": {},
   "outputs": [
    {
     "data": {
      "text/html": [
       "<div>\n",
       "<style scoped>\n",
       "    .dataframe tbody tr th:only-of-type {\n",
       "        vertical-align: middle;\n",
       "    }\n",
       "\n",
       "    .dataframe tbody tr th {\n",
       "        vertical-align: top;\n",
       "    }\n",
       "\n",
       "    .dataframe thead th {\n",
       "        text-align: right;\n",
       "    }\n",
       "</style>\n",
       "<table border=\"1\" class=\"dataframe\">\n",
       "  <thead>\n",
       "    <tr style=\"text-align: right;\">\n",
       "      <th></th>\n",
       "      <th>Age</th>\n",
       "      <th>Sex</th>\n",
       "      <th>Blood_pressure</th>\n",
       "      <th>Cholesterol</th>\n",
       "      <th>Na_to_K</th>\n",
       "      <th>Drug</th>\n",
       "      <th>is_female</th>\n",
       "      <th>is_male</th>\n",
       "      <th>high_chol</th>\n",
       "      <th>nor_chol</th>\n",
       "      <th>high_bp</th>\n",
       "      <th>nor_bp</th>\n",
       "      <th>low_bp</th>\n",
       "    </tr>\n",
       "  </thead>\n",
       "  <tbody>\n",
       "    <tr>\n",
       "      <th>0</th>\n",
       "      <td>23</td>\n",
       "      <td>F</td>\n",
       "      <td>HIGH</td>\n",
       "      <td>HIGH</td>\n",
       "      <td>25.355</td>\n",
       "      <td>DrugY</td>\n",
       "      <td>1</td>\n",
       "      <td>0</td>\n",
       "      <td>1</td>\n",
       "      <td>0</td>\n",
       "      <td>1</td>\n",
       "      <td>0</td>\n",
       "      <td>0</td>\n",
       "    </tr>\n",
       "    <tr>\n",
       "      <th>1</th>\n",
       "      <td>47</td>\n",
       "      <td>M</td>\n",
       "      <td>LOW</td>\n",
       "      <td>HIGH</td>\n",
       "      <td>13.093</td>\n",
       "      <td>drugC</td>\n",
       "      <td>0</td>\n",
       "      <td>1</td>\n",
       "      <td>1</td>\n",
       "      <td>0</td>\n",
       "      <td>0</td>\n",
       "      <td>0</td>\n",
       "      <td>1</td>\n",
       "    </tr>\n",
       "    <tr>\n",
       "      <th>2</th>\n",
       "      <td>47</td>\n",
       "      <td>M</td>\n",
       "      <td>LOW</td>\n",
       "      <td>HIGH</td>\n",
       "      <td>10.114</td>\n",
       "      <td>drugC</td>\n",
       "      <td>0</td>\n",
       "      <td>1</td>\n",
       "      <td>1</td>\n",
       "      <td>0</td>\n",
       "      <td>0</td>\n",
       "      <td>0</td>\n",
       "      <td>1</td>\n",
       "    </tr>\n",
       "    <tr>\n",
       "      <th>3</th>\n",
       "      <td>28</td>\n",
       "      <td>F</td>\n",
       "      <td>NORMAL</td>\n",
       "      <td>HIGH</td>\n",
       "      <td>7.798</td>\n",
       "      <td>drugX</td>\n",
       "      <td>1</td>\n",
       "      <td>0</td>\n",
       "      <td>1</td>\n",
       "      <td>0</td>\n",
       "      <td>0</td>\n",
       "      <td>1</td>\n",
       "      <td>0</td>\n",
       "    </tr>\n",
       "    <tr>\n",
       "      <th>4</th>\n",
       "      <td>61</td>\n",
       "      <td>F</td>\n",
       "      <td>LOW</td>\n",
       "      <td>HIGH</td>\n",
       "      <td>18.043</td>\n",
       "      <td>DrugY</td>\n",
       "      <td>1</td>\n",
       "      <td>0</td>\n",
       "      <td>1</td>\n",
       "      <td>0</td>\n",
       "      <td>0</td>\n",
       "      <td>0</td>\n",
       "      <td>1</td>\n",
       "    </tr>\n",
       "  </tbody>\n",
       "</table>\n",
       "</div>"
      ],
      "text/plain": [
       "   Age Sex Blood_pressure Cholesterol  Na_to_K   Drug  is_female  is_male  \\\n",
       "0   23   F           HIGH        HIGH   25.355  DrugY          1        0   \n",
       "1   47   M            LOW        HIGH   13.093  drugC          0        1   \n",
       "2   47   M            LOW        HIGH   10.114  drugC          0        1   \n",
       "3   28   F         NORMAL        HIGH    7.798  drugX          1        0   \n",
       "4   61   F            LOW        HIGH   18.043  DrugY          1        0   \n",
       "\n",
       "   high_chol  nor_chol  high_bp  nor_bp  low_bp  \n",
       "0          1         0        1       0       0  \n",
       "1          1         0        0       0       1  \n",
       "2          1         0        0       0       1  \n",
       "3          1         0        0       1       0  \n",
       "4          1         0        0       0       1  "
      ]
     },
     "execution_count": 28,
     "metadata": {},
     "output_type": "execute_result"
    }
   ],
   "source": [
    "df.head()"
   ]
  },
  {
   "cell_type": "code",
   "execution_count": 60,
   "id": "c3f382c9-0522-4347-beae-28700b1bfca1",
   "metadata": {},
   "outputs": [],
   "source": [
    "X = df.drop(['Sex','Blood_pressure', 'Cholesterol', 'NAK_groups', 'Drug', 'Age_groups'], axis=1)"
   ]
  },
  {
   "cell_type": "code",
   "execution_count": 62,
   "id": "14de9137-d45e-4ac4-8d3b-8cccc34b34e6",
   "metadata": {},
   "outputs": [],
   "source": [
    "y = df['Drug']"
   ]
  },
  {
   "cell_type": "code",
   "execution_count": 64,
   "id": "36dbf52f-8369-4906-843f-d4164eb00da4",
   "metadata": {},
   "outputs": [
    {
     "data": {
      "text/html": [
       "<div>\n",
       "<style scoped>\n",
       "    .dataframe tbody tr th:only-of-type {\n",
       "        vertical-align: middle;\n",
       "    }\n",
       "\n",
       "    .dataframe tbody tr th {\n",
       "        vertical-align: top;\n",
       "    }\n",
       "\n",
       "    .dataframe thead th {\n",
       "        text-align: right;\n",
       "    }\n",
       "</style>\n",
       "<table border=\"1\" class=\"dataframe\">\n",
       "  <thead>\n",
       "    <tr style=\"text-align: right;\">\n",
       "      <th></th>\n",
       "      <th>Age</th>\n",
       "      <th>Na_to_K</th>\n",
       "      <th>is_female</th>\n",
       "      <th>is_male</th>\n",
       "      <th>high_chol</th>\n",
       "      <th>nor_chol</th>\n",
       "      <th>high_bp</th>\n",
       "      <th>nor_bp</th>\n",
       "      <th>low_bp</th>\n",
       "    </tr>\n",
       "  </thead>\n",
       "  <tbody>\n",
       "    <tr>\n",
       "      <th>0</th>\n",
       "      <td>23</td>\n",
       "      <td>25.355</td>\n",
       "      <td>1</td>\n",
       "      <td>0</td>\n",
       "      <td>1</td>\n",
       "      <td>0</td>\n",
       "      <td>1</td>\n",
       "      <td>0</td>\n",
       "      <td>0</td>\n",
       "    </tr>\n",
       "    <tr>\n",
       "      <th>1</th>\n",
       "      <td>47</td>\n",
       "      <td>13.093</td>\n",
       "      <td>0</td>\n",
       "      <td>1</td>\n",
       "      <td>1</td>\n",
       "      <td>0</td>\n",
       "      <td>0</td>\n",
       "      <td>0</td>\n",
       "      <td>1</td>\n",
       "    </tr>\n",
       "    <tr>\n",
       "      <th>2</th>\n",
       "      <td>47</td>\n",
       "      <td>10.114</td>\n",
       "      <td>0</td>\n",
       "      <td>1</td>\n",
       "      <td>1</td>\n",
       "      <td>0</td>\n",
       "      <td>0</td>\n",
       "      <td>0</td>\n",
       "      <td>1</td>\n",
       "    </tr>\n",
       "    <tr>\n",
       "      <th>3</th>\n",
       "      <td>28</td>\n",
       "      <td>7.798</td>\n",
       "      <td>1</td>\n",
       "      <td>0</td>\n",
       "      <td>1</td>\n",
       "      <td>0</td>\n",
       "      <td>0</td>\n",
       "      <td>1</td>\n",
       "      <td>0</td>\n",
       "    </tr>\n",
       "    <tr>\n",
       "      <th>4</th>\n",
       "      <td>61</td>\n",
       "      <td>18.043</td>\n",
       "      <td>1</td>\n",
       "      <td>0</td>\n",
       "      <td>1</td>\n",
       "      <td>0</td>\n",
       "      <td>0</td>\n",
       "      <td>0</td>\n",
       "      <td>1</td>\n",
       "    </tr>\n",
       "    <tr>\n",
       "      <th>...</th>\n",
       "      <td>...</td>\n",
       "      <td>...</td>\n",
       "      <td>...</td>\n",
       "      <td>...</td>\n",
       "      <td>...</td>\n",
       "      <td>...</td>\n",
       "      <td>...</td>\n",
       "      <td>...</td>\n",
       "      <td>...</td>\n",
       "    </tr>\n",
       "    <tr>\n",
       "      <th>195</th>\n",
       "      <td>56</td>\n",
       "      <td>11.567</td>\n",
       "      <td>1</td>\n",
       "      <td>0</td>\n",
       "      <td>1</td>\n",
       "      <td>0</td>\n",
       "      <td>0</td>\n",
       "      <td>0</td>\n",
       "      <td>1</td>\n",
       "    </tr>\n",
       "    <tr>\n",
       "      <th>196</th>\n",
       "      <td>16</td>\n",
       "      <td>12.006</td>\n",
       "      <td>0</td>\n",
       "      <td>1</td>\n",
       "      <td>1</td>\n",
       "      <td>0</td>\n",
       "      <td>0</td>\n",
       "      <td>0</td>\n",
       "      <td>1</td>\n",
       "    </tr>\n",
       "    <tr>\n",
       "      <th>197</th>\n",
       "      <td>52</td>\n",
       "      <td>9.894</td>\n",
       "      <td>0</td>\n",
       "      <td>1</td>\n",
       "      <td>1</td>\n",
       "      <td>0</td>\n",
       "      <td>0</td>\n",
       "      <td>1</td>\n",
       "      <td>0</td>\n",
       "    </tr>\n",
       "    <tr>\n",
       "      <th>198</th>\n",
       "      <td>23</td>\n",
       "      <td>14.020</td>\n",
       "      <td>0</td>\n",
       "      <td>1</td>\n",
       "      <td>0</td>\n",
       "      <td>1</td>\n",
       "      <td>0</td>\n",
       "      <td>1</td>\n",
       "      <td>0</td>\n",
       "    </tr>\n",
       "    <tr>\n",
       "      <th>199</th>\n",
       "      <td>40</td>\n",
       "      <td>11.349</td>\n",
       "      <td>1</td>\n",
       "      <td>0</td>\n",
       "      <td>0</td>\n",
       "      <td>1</td>\n",
       "      <td>0</td>\n",
       "      <td>0</td>\n",
       "      <td>1</td>\n",
       "    </tr>\n",
       "  </tbody>\n",
       "</table>\n",
       "<p>200 rows × 9 columns</p>\n",
       "</div>"
      ],
      "text/plain": [
       "     Age  Na_to_K  is_female  is_male  high_chol  nor_chol  high_bp  nor_bp  \\\n",
       "0     23   25.355          1        0          1         0        1       0   \n",
       "1     47   13.093          0        1          1         0        0       0   \n",
       "2     47   10.114          0        1          1         0        0       0   \n",
       "3     28    7.798          1        0          1         0        0       1   \n",
       "4     61   18.043          1        0          1         0        0       0   \n",
       "..   ...      ...        ...      ...        ...       ...      ...     ...   \n",
       "195   56   11.567          1        0          1         0        0       0   \n",
       "196   16   12.006          0        1          1         0        0       0   \n",
       "197   52    9.894          0        1          1         0        0       1   \n",
       "198   23   14.020          0        1          0         1        0       1   \n",
       "199   40   11.349          1        0          0         1        0       0   \n",
       "\n",
       "     low_bp  \n",
       "0         0  \n",
       "1         1  \n",
       "2         1  \n",
       "3         0  \n",
       "4         1  \n",
       "..      ...  \n",
       "195       1  \n",
       "196       1  \n",
       "197       0  \n",
       "198       0  \n",
       "199       1  \n",
       "\n",
       "[200 rows x 9 columns]"
      ]
     },
     "execution_count": 64,
     "metadata": {},
     "output_type": "execute_result"
    }
   ],
   "source": [
    "X"
   ]
  },
  {
   "cell_type": "code",
   "execution_count": 66,
   "id": "be80d211-a4b6-4a13-94f2-2a70428808d8",
   "metadata": {},
   "outputs": [
    {
     "data": {
      "text/plain": [
       "0      DrugY\n",
       "1      drugC\n",
       "2      drugC\n",
       "3      drugX\n",
       "4      DrugY\n",
       "       ...  \n",
       "195    drugC\n",
       "196    drugC\n",
       "197    drugX\n",
       "198    drugX\n",
       "199    drugX\n",
       "Name: Drug, Length: 200, dtype: object"
      ]
     },
     "execution_count": 66,
     "metadata": {},
     "output_type": "execute_result"
    }
   ],
   "source": [
    "y"
   ]
  },
  {
   "cell_type": "markdown",
   "id": "26aae879-678f-4f8e-926d-68d731516f72",
   "metadata": {},
   "source": [
    "### Splitting the dataset into training and testing set\n",
    "\n",
    "The dataset is not balanced as 'DrugY' occurs more often than other drug types. Therefore we will use SMOTE (Synthetic Minority Oversampling Technique). SMOTE will oversample drugA, drugB, drugC and drugX to have the same number of samples as DrugY. The synthetic aspect of this oversampling technique helps to avoid overfitting, as it's not just repeating existing data. "
   ]
  },
  {
   "cell_type": "code",
   "execution_count": 107,
   "id": "13f83066-8291-410c-8b14-79b8e9f7518e",
   "metadata": {},
   "outputs": [
    {
     "data": {
      "text/plain": [
       "Drug\n",
       "drugC    73\n",
       "DrugY    73\n",
       "drugA    73\n",
       "drugB    73\n",
       "drugX    73\n",
       "Name: count, dtype: int64"
      ]
     },
     "execution_count": 107,
     "metadata": {},
     "output_type": "execute_result"
    }
   ],
   "source": [
    "from imblearn.over_sampling import SMOTE\n",
    "\n",
    "X_train, X_test, y_train, y_test = train_test_split(X, y, test_size = 0.2, random_state = 100, stratify=y)\n",
    "\n",
    "X_train = pd.get_dummies(pd.DataFrame(X_train))\n",
    "X_test = pd.get_dummies(pd.DataFrame(X_test))\n",
    "\n",
    "# Returned error - Filling missing features with 0\n",
    "X_test = X_test.reindex(columns=X_train.columns, fill_value=0)  \n",
    "\n",
    "# Apply SMOTE\n",
    "X_train, y_train = SMOTE().fit_resample(X_train, y_train)\n",
    "\n",
    "#Check the y_train set\n",
    "y_train.value_counts()\n"
   ]
  },
  {
   "cell_type": "code",
   "execution_count": 109,
   "id": "2d79e895-38cc-4be2-be29-522ec660083f",
   "metadata": {},
   "outputs": [
    {
     "name": "stdout",
     "output_type": "stream",
     "text": [
      "                Age   Na_to_K  is_female  high_chol   high_bp\n",
      "Age        1.000000 -0.063119  -0.102027   0.068234 -0.099782\n",
      "Na_to_K   -0.063119  1.000000   0.125008  -0.010000  0.104985\n",
      "is_female -0.102027  0.125008   1.000000  -0.008811  0.021390\n",
      "high_chol  0.068234 -0.010000  -0.008811   1.000000 -0.095708\n",
      "high_bp   -0.099782  0.104985   0.021390  -0.095708  1.000000\n"
     ]
    }
   ],
   "source": [
    "# Find highly correlated features (approx. > 0.8/ < -0.8)\n",
    "df_corr = df[['Age', 'Na_to_K', 'is_female', 'high_chol', 'high_bp']]\n",
    "df_corr =  df_corr.astype(float)\n",
    "\n",
    "correlation_matrix = df_corr.corr()\n",
    "print(correlation_matrix)"
   ]
  },
  {
   "cell_type": "markdown",
   "id": "db9a8801-4a6d-4497-820d-b6381d239a70",
   "metadata": {},
   "source": [
    "### **Logistic Regression**"
   ]
  },
  {
   "cell_type": "code",
   "execution_count": 111,
   "id": "7591e0b1-a79f-4cfd-9f5c-81a514cef9eb",
   "metadata": {},
   "outputs": [],
   "source": [
    "from sklearn.linear_model import LogisticRegression\n",
    "\n",
    "# Training the model: \n",
    "LR_model = LogisticRegression(solver='liblinear', C=0.1, max_iter=200)\n",
    "\n",
    "# solver = liblinear since it's good for small datasets\n",
    "# c = 0.1 to prevent overfitting"
   ]
  },
  {
   "cell_type": "code",
   "execution_count": 119,
   "id": "eba2ebdf-a785-43a8-a60b-18ebfa686f8a",
   "metadata": {},
   "outputs": [
    {
     "name": "stdout",
     "output_type": "stream",
     "text": [
      "Cross-Validation Accuracy: 87.12%\n"
     ]
    }
   ],
   "source": [
    "# Cross-validation - getting a reliable estimate of accuracy\n",
    "\n",
    "from sklearn.model_selection import cross_val_score\n",
    "\n",
    "cv_scores = cross_val_score(LR_model, X_train, y_train, cv=5, scoring=\"accuracy\")\n",
    "print(\"Cross-Validation Accuracy: {:.2f}%\".format(cv_scores.mean()*100))\n"
   ]
  },
  {
   "cell_type": "code",
   "execution_count": 121,
   "id": "79fd6b43-f738-485c-8336-6b29a0f733d5",
   "metadata": {},
   "outputs": [
    {
     "name": "stdout",
     "output_type": "stream",
     "text": [
      "              precision    recall  f1-score   support\n",
      "\n",
      "       DrugY       0.86      1.00      0.92        18\n",
      "       drugA       0.80      0.80      0.80         5\n",
      "       drugB       0.67      0.67      0.67         3\n",
      "       drugC       1.00      0.67      0.80         3\n",
      "       drugX       1.00      0.82      0.90        11\n",
      "\n",
      "    accuracy                           0.88        40\n",
      "   macro avg       0.86      0.79      0.82        40\n",
      "weighted avg       0.89      0.88      0.87        40\n",
      "\n",
      "[[18  0  0  0  0]\n",
      " [ 0  4  1  0  0]\n",
      " [ 0  1  2  0  0]\n",
      " [ 1  0  0  2  0]\n",
      " [ 2  0  0  0  9]]\n"
     ]
    }
   ],
   "source": [
    "# Applying the model to make a prediction:\n",
    "\n",
    "LR_model.fit(X_train, y_train)\n",
    "LR_predictions = LR_model.predict(X_test)\n",
    "\n",
    "print(classification_report(y_test, LR_predictions))\n",
    "print(confusion_matrix(y_test, LR_predictions))"
   ]
  },
  {
   "cell_type": "code",
   "execution_count": 123,
   "id": "dae72767-b5aa-431a-9f45-158bfdfe0e02",
   "metadata": {},
   "outputs": [
    {
     "name": "stdout",
     "output_type": "stream",
     "text": [
      "Logistic Regression accuracy is: 87.50%\n"
     ]
    }
   ],
   "source": [
    "# Evaluating the model\n",
    "\n",
    "LR_score = accuracy_score(LR_predictions,y_test)\n",
    "print('Logistic Regression accuracy is: {:.2f}%'.format(LR_score*100))  "
   ]
  },
  {
   "cell_type": "markdown",
   "id": "6cfb191b-1adf-46cc-af84-2d5c30d14652",
   "metadata": {},
   "source": [
    "### **Decision Tree**"
   ]
  },
  {
   "cell_type": "code",
   "execution_count": 127,
   "id": "92b1a2f0-6c8a-4557-8f84-3c3c02d7e2df",
   "metadata": {},
   "outputs": [],
   "source": [
    "# Training the model: \n",
    "DT_model = DecisionTreeClassifier(max_depth=5, max_leaf_nodes=10)"
   ]
  },
  {
   "cell_type": "code",
   "execution_count": 141,
   "id": "28440d98-47ed-49e2-b5a4-7e73fe258573",
   "metadata": {},
   "outputs": [
    {
     "name": "stdout",
     "output_type": "stream",
     "text": [
      "Cross-Validation Accuracy: 99.73% \n"
     ]
    }
   ],
   "source": [
    "# Cross-validation\n",
    "\n",
    "from sklearn.model_selection import cross_val_score\n",
    "cv_scores = cross_val_score(DT_model, X_train, y_train, cv=5, scoring=\"accuracy\")\n",
    "print(\"Cross-Validation Accuracy: {:.2f}% \".format(cv_scores.mean()*100))\n"
   ]
  },
  {
   "cell_type": "code",
   "execution_count": 135,
   "id": "35e9d9a4-2813-4d84-9313-b6ab101fd226",
   "metadata": {},
   "outputs": [
    {
     "name": "stdout",
     "output_type": "stream",
     "text": [
      "              precision    recall  f1-score   support\n",
      "\n",
      "       DrugY       1.00      1.00      1.00        18\n",
      "       drugA       0.83      1.00      0.91         5\n",
      "       drugB       1.00      0.67      0.80         3\n",
      "       drugC       1.00      1.00      1.00         3\n",
      "       drugX       1.00      1.00      1.00        11\n",
      "\n",
      "    accuracy                           0.97        40\n",
      "   macro avg       0.97      0.93      0.94        40\n",
      "weighted avg       0.98      0.97      0.97        40\n",
      "\n",
      "[[18  0  0  0  0]\n",
      " [ 0  5  0  0  0]\n",
      " [ 0  1  2  0  0]\n",
      " [ 0  0  0  3  0]\n",
      " [ 0  0  0  0 11]]\n"
     ]
    }
   ],
   "source": [
    "# Applying the model to make a prediction:\n",
    "DT_model.fit(X_train,y_train)\n",
    "DT_predictions = DT_model.predict(X_test)\n",
    "\n",
    "print(classification_report(y_test, DT_predictions))\n",
    "print(confusion_matrix(y_test, DT_predictions))"
   ]
  },
  {
   "cell_type": "code",
   "execution_count": 137,
   "id": "24206686-d8b2-4cd9-98b7-3c84f189356f",
   "metadata": {},
   "outputs": [
    {
     "name": "stdout",
     "output_type": "stream",
     "text": [
      "Decision Tree accuracy is: 97.50%\n"
     ]
    }
   ],
   "source": [
    "# Evaluating the model\n",
    "DT_score = accuracy_score(y_test, DT_predictions)\n",
    "print('Decision Tree accuracy is: {:.2f}%'.format(DT_score*100))\n"
   ]
  },
  {
   "cell_type": "code",
   "execution_count": 139,
   "id": "cf6d129a-ebb5-4b59-9755-4b8d63b49e7d",
   "metadata": {},
   "outputs": [
    {
     "name": "stdout",
     "output_type": "stream",
     "text": [
      "Train Accuracy: 1.0\n",
      "Test Accuracy: 0.975\n"
     ]
    }
   ],
   "source": [
    "# The accuracy seems a bit too high - the model might be overfitting\n",
    "\n",
    "print(\"Train Accuracy:\", DT_model.score(X_train, y_train))\n",
    "print(\"Test Accuracy:\", DT_model.score(X_test, y_test))\n"
   ]
  },
  {
   "cell_type": "code",
   "execution_count": 157,
   "id": "59076fd9-082e-49ac-beb0-de5054506cef",
   "metadata": {},
   "outputs": [],
   "source": [
    "# Change params of the decision tree model to reduce overfitting. \n",
    "# Decision Trees work well with categories -> binning one of the variables to try improving its performance. \n",
    "# Trying to use subgroups/bin of one variable at a time to avoid creating unnecessary amount of dummy variables and overcomplicating the tree.\n",
    "\n",
    "X_DT = df.drop(['Sex','Blood_pressure', 'Cholesterol', 'Na_to_K', 'Drug', 'Age_groups'], axis=1)\n",
    "y_DT = df['Drug']\n",
    "X_DT_train, X_DT_test, y_DT_train, y_DT_test = train_test_split(X_DT, y_DT, test_size = 0.2, random_state = 100, stratify=y)\n",
    "\n",
    "X_DT_train = pd.get_dummies(pd.DataFrame(X_DT_train))\n",
    "X_DT_test = pd.get_dummies(pd.DataFrame(X_DT_test))\n",
    "\n",
    "X_DT_test = X_DT_test.reindex(columns=X_DT_train.columns, fill_value=0)  \n",
    "\n",
    "X_DT_train, y_DT_train = SMOTE().fit_resample(X_DT_train, y_DT_train)\n",
    "\n",
    "DT_model = DecisionTreeClassifier(max_depth=5, max_leaf_nodes=20, random_state=42)\n"
   ]
  },
  {
   "cell_type": "code",
   "execution_count": 159,
   "id": "b3c280b7-3ece-407d-8933-ce0b7c0b9627",
   "metadata": {},
   "outputs": [
    {
     "name": "stdout",
     "output_type": "stream",
     "text": [
      "Cross-Validation Accuracy: 94.25% \n"
     ]
    }
   ],
   "source": [
    "# Cross-validation \n",
    "\n",
    "from sklearn.model_selection import cross_val_score\n",
    "cv_scores = cross_val_score(DT_model, X_DT_train, y_DT_train, cv=5, scoring=\"accuracy\")\n",
    "print(\"Cross-Validation Accuracy: {:.2f}% \".format(cv_scores.mean()*100))\n"
   ]
  },
  {
   "cell_type": "code",
   "execution_count": 161,
   "id": "763b3f83-eb17-4006-9f53-058098b0bc6d",
   "metadata": {},
   "outputs": [
    {
     "name": "stdout",
     "output_type": "stream",
     "text": [
      "New Decision Tree accuracy is: 85.00%\n",
      "Train Accuracy: 98.90%\n",
      "Test Accuracy: 85.00%\n"
     ]
    }
   ],
   "source": [
    "DT_model.fit(X_DT_train,y_DT_train)\n",
    "DT_predictions = DT_model.predict(X_DT_test)\n",
    "DT_score = accuracy_score(y_DT_test, DT_predictions)\n",
    "print('New Decision Tree accuracy is: {:.2f}%'.format(DT_score*100))\n",
    "print(\"Train Accuracy: {:.2f}%\".format(DT_model.score(X_DT_train, y_DT_train)*100))\n",
    "print(\"Test Accuracy: {:.2f}%\".format(DT_model.score(X_DT_test, y_DT_test)*100))\n"
   ]
  },
  {
   "cell_type": "code",
   "execution_count": 163,
   "id": "98221095-fc47-42e4-a908-0faea073c28a",
   "metadata": {},
   "outputs": [],
   "source": [
    "tree.export_graphviz(DT_model, out_file='drug_selector.dot', \n",
    "                    feature_names = sorted(X_DT_train.columns),\n",
    "                    class_names = sorted(y_DT.unique()),\n",
    "                    label = 'all',\n",
    "                    rounded= True,\n",
    "                    filled=True)"
   ]
  },
  {
   "cell_type": "code",
   "execution_count": 165,
   "id": "486456a5-5726-4a3d-a022-7327023259bb",
   "metadata": {},
   "outputs": [
    {
     "data": {
      "image/png": "[encoded data removed]",
      "text/plain": [
       "<Figure size 640x480 with 1 Axes>"
      ]
     },
     "metadata": {},
     "output_type": "display_data"
    }
   ],
   "source": [
    "img = mpimg.imread('graphviz.png')\n",
    "imgplot = plt.imshow(img)\n",
    "plt.axis('off') \n",
    "plt.show()\n"
   ]
  },
  {
   "cell_type": "code",
   "execution_count": null,
   "id": "ddcef147-aa75-4faa-b747-54caf74f22b3",
   "metadata": {},
   "outputs": [],
   "source": []
  }
 ],
 "metadata": {
  "kernelspec": {
   "display_name": "Python [conda env:base] *",
   "language": "python",
   "name": "conda-base-py"
  },
  "language_info": {
   "codemirror_mode": {
    "name": "ipython",
    "version": 3
   },
   "file_extension": ".py",
   "mimetype": "text/x-python",
   "name": "python",
   "nbconvert_exporter": "python",
   "pygments_lexer": "ipython3",
   "version": "3.12.7"
  }
 },
 "nbformat": 4,
 "nbformat_minor": 5
}
